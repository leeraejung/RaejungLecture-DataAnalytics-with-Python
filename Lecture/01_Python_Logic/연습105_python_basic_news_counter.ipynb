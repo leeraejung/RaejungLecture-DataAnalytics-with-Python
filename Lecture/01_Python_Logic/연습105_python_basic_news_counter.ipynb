{
 "cells": [
  {
   "cell_type": "markdown",
   "metadata": {},
   "source": [
    "# News counter"
   ]
  },
  {
   "cell_type": "code",
   "execution_count": null,
   "metadata": {},
   "outputs": [],
   "source": [
    "import pandas as pd\n",
    "import requests\n",
    "from bs4 import BeautifulSoup\n",
    "import re\n",
    "\n",
    "import time\n",
    "from datetime import datetime"
   ]
  },
  {
   "cell_type": "markdown",
   "metadata": {},
   "source": [
    "### News keyword 설정"
   ]
  },
  {
   "cell_type": "code",
   "execution_count": null,
   "metadata": {},
   "outputs": [],
   "source": [
    "# keyword 정의\n",
    "lst_kword1 = ['코로나', '선거']"
   ]
  },
  {
   "cell_type": "code",
   "execution_count": null,
   "metadata": {},
   "outputs": [],
   "source": [
    "# keyword 파일에서 읽기\n",
    "df = pd.read_excel('data/keyword.xlsx', header=None)\n",
    "lst_kword2 =  df[0].values.tolist()"
   ]
  },
  {
   "cell_type": "code",
   "execution_count": null,
   "metadata": {},
   "outputs": [],
   "source": [
    "lst_kword = lst_kword1 + lst_kword2"
   ]
  },
  {
   "cell_type": "code",
   "execution_count": null,
   "metadata": {},
   "outputs": [],
   "source": [
    "cur = datetime.now().strftime('%Y-%m-%d')\n",
    "\n",
    "# 사용자 설정: 검색일 설정(option)\n",
    "#cur = '2019-04-28'\n",
    "\n",
    "s_date = cur.replace('-','.')\n",
    "e_date = cur.replace('-','.')\n",
    "\n",
    "s_from = cur.replace('-','')\n",
    "e_to   = cur.replace('-','')"
   ]
  },
  {
   "cell_type": "markdown",
   "metadata": {},
   "source": [
    "### Main process"
   ]
  },
  {
   "cell_type": "code",
   "execution_count": null,
   "metadata": {},
   "outputs": [],
   "source": [
    "\n",
    "f = open('data/naver_news_' + cur + '.csv', 'w')\n",
    "\n",
    "f.write('키워드,날짜,Count\\n')\n",
    "\n",
    "for i, kword in enumerate(lst_kword):\n",
    "\n",
    "    cnt = 0\n",
    "\n",
    "    url = 'https://search.naver.com/search.naver?where=news&query=' + \\\n",
    "           kword + \\\n",
    "          '&sm=tab_opt&sort=0&photo=0&field=0&reporter_article=&pd=3' + \\\n",
    "          '&ds=' + s_date + \\\n",
    "          '&de=' + e_date + \\\n",
    "          '&docid=&nso=so%3Ar%2Cp%3A' + \\\n",
    "          'from' + s_from + \\\n",
    "          'to'   + e_to + \\\n",
    "          '%2Ca%3Aall&mynews=0&refresh_start=0&related=0'\n",
    "          \n",
    "    #header 추가\n",
    "    header = {\n",
    "        'User-Agent': 'Mozilla/5.0 (Windows NT 10.0; Win64; x64) AppleWebKit/537.36 (KHTML, like Gecko) Chrome/58.0.3029.110 Safari/537.36',\n",
    "    }\n",
    "    \n",
    "    print(url)\n",
    "    \n",
    "    req = requests.get(url,headers=header)\n",
    "    cont = req.content\n",
    "    soup = BeautifulSoup(cont, 'html.parser')\n",
    "    \n",
    "    #print(soup)\n",
    "    \n",
    "    lst_title = soup.select('a.news_tit')\n",
    "    if len(lst_title) == 0:\n",
    "        print('검색 결과가 없습니다.')\n",
    "        continue\n",
    "    \n",
    "    for j, item in enumerate(lst_title):\n",
    "        print(f'<{j:02d}> {item.text}')\n",
    "    \n",
    "    cnt = j + 1\n",
    "    \n",
    "    \n",
    "    print('-' * 60)\n",
    "    print(f'<{i:03d}> keyword: {kword}, Date: {cur}, Count: {cnt}')\n",
    "    print('-' * 60)\n",
    "    print('\\n')\n",
    "    \n",
    "    f.write(f'{kword},{cur},{cnt}\\n')\n",
    "    \n",
    "    #\n",
    "    # sleep 1 second\n",
    "    #\n",
    "    time.sleep(1)\n",
    "                \n",
    "f.close()\n",
    "\n",
    "print('--------------------------------------------------------')\n",
    "print('End process...')\n",
    "print('--------------------------------------------------------')\n",
    "    "
   ]
  },
  {
   "cell_type": "code",
   "execution_count": null,
   "metadata": {},
   "outputs": [],
   "source": []
  },
  {
   "cell_type": "code",
   "execution_count": null,
   "metadata": {},
   "outputs": [],
   "source": [
    "# End of file"
   ]
  },
  {
   "cell_type": "code",
   "execution_count": null,
   "metadata": {},
   "outputs": [],
   "source": []
  }
 ],
 "metadata": {
  "kernelspec": {
   "display_name": "Python 3",
   "language": "python",
   "name": "python3"
  },
  "language_info": {
   "codemirror_mode": {
    "name": "ipython",
    "version": 3
   },
   "file_extension": ".py",
   "mimetype": "text/x-python",
   "name": "python",
   "nbconvert_exporter": "python",
   "pygments_lexer": "ipython3",
   "version": "3.8.5"
  },
  "vp": {
   "base_numbering": 1,
   "nav_menu": {},
   "number_sections": true,
   "sideBar": true,
   "title_cell": "VisualPython",
   "title_sidebar": "VisualPython",
   "vpPosition": {
    "height": "calc(100% - 180px)",
    "right": "10px",
    "top": "110px",
    "width": "50%"
   },
   "vp_cell": false,
   "vp_section_display": true,
   "vp_window_display": false
  }
 },
 "nbformat": 4,
 "nbformat_minor": 2
}
