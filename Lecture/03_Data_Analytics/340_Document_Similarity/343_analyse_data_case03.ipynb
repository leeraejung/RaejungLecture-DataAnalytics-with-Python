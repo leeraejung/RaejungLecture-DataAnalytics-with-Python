{
 "cells": [
  {
   "cell_type": "markdown",
   "metadata": {},
   "source": [
    "# Document Similarity"
   ]
  },
  {
   "cell_type": "markdown",
   "metadata": {},
   "source": [
    "## Analyse data case 03"
   ]
  },
  {
   "cell_type": "markdown",
   "metadata": {},
   "source": [
    "---"
   ]
  },
  {
   "cell_type": "code",
   "execution_count": null,
   "metadata": {},
   "outputs": [],
   "source": [
    "import numpy as np\n",
    "import pandas as pd\n",
    "import matplotlib.pyplot as plt\n",
    "%matplotlib inline\n"
   ]
  },
  {
   "cell_type": "code",
   "execution_count": null,
   "metadata": {},
   "outputs": [],
   "source": [
    "from matplotlib import style\n",
    "style.use('ggplot')\n",
    "\n",
    "plt.rc('figure', figsize=(40, 20))\n",
    "\n",
    "from matplotlib import rcParams\n",
    "#rcParams['font.family'] = 'New Gulim'\n",
    "rcParams['font.size'] = 30\n",
    "rcParams['axes.unicode_minus'] = False\n"
   ]
  },
  {
   "cell_type": "markdown",
   "metadata": {},
   "source": [
    "### Define value"
   ]
  },
  {
   "cell_type": "code",
   "execution_count": null,
   "metadata": {},
   "outputs": [],
   "source": [
    "fname_result = 'data/result_score.pkl'"
   ]
  },
  {
   "cell_type": "markdown",
   "metadata": {},
   "source": [
    "### Load contents file (pickle)"
   ]
  },
  {
   "cell_type": "code",
   "execution_count": null,
   "metadata": {},
   "outputs": [],
   "source": [
    "df_c = pd.read_pickle(fname_result)"
   ]
  },
  {
   "cell_type": "code",
   "execution_count": null,
   "metadata": {
    "scrolled": false
   },
   "outputs": [],
   "source": [
    "df_c.columns"
   ]
  },
  {
   "cell_type": "code",
   "execution_count": null,
   "metadata": {},
   "outputs": [],
   "source": [
    "df_c.loc[df_c['class_type'] == 'B','class_type'] = '1_BEFORE'\n",
    "df_c.loc[df_c['class_type'] == 'A','class_type'] = '2_AFTER'"
   ]
  },
  {
   "cell_type": "markdown",
   "metadata": {},
   "source": [
    "### Normalization"
   ]
  },
  {
   "cell_type": "code",
   "execution_count": null,
   "metadata": {},
   "outputs": [],
   "source": [
    "col_list1 = list(df_c.columns[:5])\n",
    "col_list2 = list(df_c.columns[5:])"
   ]
  },
  {
   "cell_type": "code",
   "execution_count": null,
   "metadata": {},
   "outputs": [],
   "source": [
    "MAX = df_c[col_list2].max().max()\n",
    "MAX"
   ]
  },
  {
   "cell_type": "code",
   "execution_count": null,
   "metadata": {},
   "outputs": [],
   "source": [
    "MIN = df_c[col_list2].min().min()\n",
    "MIN"
   ]
  },
  {
   "cell_type": "code",
   "execution_count": null,
   "metadata": {},
   "outputs": [],
   "source": [
    "def func(x):\n",
    "    return (x - MIN) * 100 / (MAX - MIN)"
   ]
  },
  {
   "cell_type": "code",
   "execution_count": null,
   "metadata": {},
   "outputs": [],
   "source": [
    "df_n = pd.concat([df_c[col_list1], df_c[col_list2].applymap(func)], axis=1)"
   ]
  },
  {
   "cell_type": "markdown",
   "metadata": {},
   "source": [
    "## 1. 기업(comp)별 집계"
   ]
  },
  {
   "cell_type": "markdown",
   "metadata": {},
   "source": [
    "### 기업별 분류 컬럼 추가"
   ]
  },
  {
   "cell_type": "code",
   "execution_count": null,
   "metadata": {},
   "outputs": [],
   "source": [
    "df_n['company'] = df_n['fname'].str.split('_').apply(lambda x: x[0])"
   ]
  },
  {
   "cell_type": "markdown",
   "metadata": {},
   "source": [
    "### 년도 분류 컬럼 추가"
   ]
  },
  {
   "cell_type": "code",
   "execution_count": null,
   "metadata": {},
   "outputs": [],
   "source": [
    "df_n['year'] = df_n['fname'].str.split(r'_|\\(|\\-|\\.').apply(lambda x: x[1])"
   ]
  },
  {
   "cell_type": "code",
   "execution_count": null,
   "metadata": {},
   "outputs": [],
   "source": [
    "df_n"
   ]
  },
  {
   "cell_type": "markdown",
   "metadata": {},
   "source": [
    "---"
   ]
  },
  {
   "cell_type": "markdown",
   "metadata": {},
   "source": [
    "### 1.1 Goal별 기업 점수(유사도 평균) 계산"
   ]
  },
  {
   "cell_type": "code",
   "execution_count": null,
   "metadata": {},
   "outputs": [],
   "source": [
    "gp_goal = df_n.groupby(['company','class_type']).mean()\n",
    "gp_goal.drop('doc_id', axis=1, inplace=True)\n",
    "gp_goal = gp_goal.unstack()"
   ]
  },
  {
   "cell_type": "code",
   "execution_count": null,
   "metadata": {
    "scrolled": false
   },
   "outputs": [],
   "source": [
    "gp_goal"
   ]
  },
  {
   "cell_type": "markdown",
   "metadata": {},
   "source": [
    "### Chart - Goal 별 기업 점수: Before & After 비교 - Goal 기준"
   ]
  },
  {
   "cell_type": "code",
   "execution_count": null,
   "metadata": {
    "scrolled": false
   },
   "outputs": [],
   "source": [
    "# Goal 설정\n",
    "goal_name = 'goal01'\n",
    "\n",
    "gp_goal[goal_name].plot(kind='bar', rot=30, alpha=0.8)\n",
    "plt.title('< {} >'.format(goal_name))\n",
    "plt.legend(loc='best')\n",
    "plt.show()"
   ]
  },
  {
   "cell_type": "code",
   "execution_count": null,
   "metadata": {},
   "outputs": [],
   "source": [
    "# Goal 설정\n",
    "goal_name = 'goal02'\n",
    "\n",
    "gp_goal[goal_name].plot(kind='bar', rot=30, alpha=0.8)\n",
    "plt.title('< {} >'.format(goal_name))\n",
    "plt.legend(loc='best')\n",
    "plt.show()"
   ]
  },
  {
   "cell_type": "code",
   "execution_count": null,
   "metadata": {},
   "outputs": [],
   "source": [
    "# Goal 설정\n",
    "goal_name = 'goal03'\n",
    "\n",
    "gp_goal[goal_name].plot(kind='bar', rot=30, alpha=0.8)\n",
    "plt.title('< {} >'.format(goal_name))\n",
    "plt.legend(loc='best')\n",
    "plt.show()"
   ]
  },
  {
   "cell_type": "code",
   "execution_count": null,
   "metadata": {},
   "outputs": [],
   "source": [
    "# Goal 설정\n",
    "goal_name = 'goal04'\n",
    "\n",
    "gp_goal[goal_name].plot(kind='bar', rot=30, alpha=0.8)\n",
    "plt.title('< {} >'.format(goal_name))\n",
    "plt.legend(loc='best')\n",
    "plt.show()"
   ]
  },
  {
   "cell_type": "code",
   "execution_count": null,
   "metadata": {},
   "outputs": [],
   "source": [
    "# Goal 설정\n",
    "goal_name = 'goal05'\n",
    "\n",
    "gp_goal[goal_name].plot(kind='bar', rot=30, alpha=0.8)\n",
    "plt.title('< {} >'.format(goal_name))\n",
    "plt.legend(loc='best')\n",
    "plt.show()"
   ]
  },
  {
   "cell_type": "code",
   "execution_count": null,
   "metadata": {},
   "outputs": [],
   "source": [
    "# Goal 설정\n",
    "goal_name = 'goal06'\n",
    "\n",
    "gp_goal[goal_name].plot(kind='bar', rot=30, alpha=0.8)\n",
    "plt.title('< {} >'.format(goal_name))\n",
    "plt.legend(loc='best')\n",
    "plt.show()"
   ]
  },
  {
   "cell_type": "code",
   "execution_count": null,
   "metadata": {},
   "outputs": [],
   "source": [
    "# Goal 설정\n",
    "goal_name = 'goal07'\n",
    "\n",
    "gp_goal[goal_name].plot(kind='bar', rot=30, alpha=0.8)\n",
    "plt.title('< {} >'.format(goal_name))\n",
    "plt.legend(loc='best')\n",
    "plt.show()"
   ]
  },
  {
   "cell_type": "code",
   "execution_count": null,
   "metadata": {},
   "outputs": [],
   "source": [
    "# Goal 설정\n",
    "goal_name = 'goal08'\n",
    "\n",
    "gp_goal[goal_name].plot(kind='bar', rot=30, alpha=0.8)\n",
    "plt.title('< {} >'.format(goal_name))\n",
    "plt.legend(loc='best')\n",
    "plt.show()"
   ]
  },
  {
   "cell_type": "code",
   "execution_count": null,
   "metadata": {},
   "outputs": [],
   "source": [
    "# Goal 설정\n",
    "goal_name = 'goal09'\n",
    "\n",
    "gp_goal[goal_name].plot(kind='bar', rot=30, alpha=0.8)\n",
    "plt.title('< {} >'.format(goal_name))\n",
    "plt.legend(loc='best')\n",
    "plt.show()"
   ]
  },
  {
   "cell_type": "code",
   "execution_count": null,
   "metadata": {},
   "outputs": [],
   "source": [
    "# Goal 설정\n",
    "goal_name = 'goal10'\n",
    "\n",
    "gp_goal[goal_name].plot(kind='bar', rot=30, alpha=0.8)\n",
    "plt.title('< {} >'.format(goal_name))\n",
    "plt.legend(loc='best')\n",
    "plt.show()"
   ]
  },
  {
   "cell_type": "code",
   "execution_count": null,
   "metadata": {},
   "outputs": [],
   "source": [
    "# Goal 설정\n",
    "goal_name = 'goal11'\n",
    "\n",
    "gp_goal[goal_name].plot(kind='bar', rot=30, alpha=0.8)\n",
    "plt.title('< {} >'.format(goal_name))\n",
    "plt.legend(loc='best')\n",
    "plt.show()"
   ]
  },
  {
   "cell_type": "code",
   "execution_count": null,
   "metadata": {},
   "outputs": [],
   "source": [
    "# Goal 설정\n",
    "goal_name = 'goal12'\n",
    "\n",
    "gp_goal[goal_name].plot(kind='bar', rot=30, alpha=0.8)\n",
    "plt.title('< {} >'.format(goal_name))\n",
    "plt.legend(loc='best')\n",
    "plt.show()"
   ]
  },
  {
   "cell_type": "code",
   "execution_count": null,
   "metadata": {},
   "outputs": [],
   "source": [
    "# Goal 설정\n",
    "goal_name = 'goal13'\n",
    "\n",
    "gp_goal[goal_name].plot(kind='bar', rot=30, alpha=0.8)\n",
    "plt.title('< {} >'.format(goal_name))\n",
    "plt.legend(loc='best')\n",
    "plt.show()"
   ]
  },
  {
   "cell_type": "code",
   "execution_count": null,
   "metadata": {},
   "outputs": [],
   "source": [
    "# Goal 설정\n",
    "goal_name = 'goal14'\n",
    "\n",
    "gp_goal[goal_name].plot(kind='bar', rot=30, alpha=0.8)\n",
    "plt.title('< {} >'.format(goal_name))\n",
    "plt.legend(loc='best')\n",
    "plt.show()"
   ]
  },
  {
   "cell_type": "code",
   "execution_count": null,
   "metadata": {},
   "outputs": [],
   "source": [
    "# Goal 설정\n",
    "goal_name = 'goal15'\n",
    "\n",
    "gp_goal[goal_name].plot(kind='bar', rot=30, alpha=0.8)\n",
    "plt.title('< {} >'.format(goal_name))\n",
    "plt.legend(loc='best')\n",
    "plt.show()"
   ]
  },
  {
   "cell_type": "code",
   "execution_count": null,
   "metadata": {},
   "outputs": [],
   "source": [
    "# Goal 설정\n",
    "goal_name = 'goal16'\n",
    "\n",
    "gp_goal[goal_name].plot(kind='bar', rot=30, alpha=0.8)\n",
    "plt.title('< {} >'.format(goal_name))\n",
    "plt.legend(loc='best')\n",
    "plt.show()"
   ]
  },
  {
   "cell_type": "code",
   "execution_count": null,
   "metadata": {},
   "outputs": [],
   "source": [
    "# Goal 설정\n",
    "goal_name = 'goal17'\n",
    "\n",
    "gp_goal[goal_name].plot(kind='bar', rot=30, alpha=0.8)\n",
    "plt.title('< {} >'.format(goal_name))\n",
    "plt.legend(loc='best')\n",
    "plt.show()"
   ]
  },
  {
   "cell_type": "markdown",
   "metadata": {},
   "source": [
    "---"
   ]
  },
  {
   "cell_type": "markdown",
   "metadata": {},
   "source": [
    "### 1.2 기업별 Goal 점수(유사도 평균) 계산"
   ]
  },
  {
   "cell_type": "code",
   "execution_count": null,
   "metadata": {},
   "outputs": [],
   "source": [
    "gp_comp = df_n.groupby(['company','class_type']).mean()\n",
    "gp_comp.drop('doc_id', axis=1, inplace=True)"
   ]
  },
  {
   "cell_type": "code",
   "execution_count": null,
   "metadata": {
    "scrolled": false
   },
   "outputs": [],
   "source": [
    "gp_comp"
   ]
  },
  {
   "cell_type": "markdown",
   "metadata": {},
   "source": [
    "### 기업별 Goal 점수: Before & After 비교 - comp 기준"
   ]
  },
  {
   "cell_type": "code",
   "execution_count": null,
   "metadata": {},
   "outputs": [],
   "source": [
    "gp_comp_T = gp_comp.T.sort_index(level=0,axis=1)"
   ]
  },
  {
   "cell_type": "code",
   "execution_count": null,
   "metadata": {
    "scrolled": false
   },
   "outputs": [],
   "source": [
    "gp_comp_T"
   ]
  },
  {
   "cell_type": "markdown",
   "metadata": {},
   "source": [
    "### 기업별 Goal 점수: ratio (Before & After 비교) - comp 기준"
   ]
  },
  {
   "cell_type": "code",
   "execution_count": null,
   "metadata": {},
   "outputs": [],
   "source": [
    "# 기업 리스트\n",
    "#comp_list = ['Apple', 'BASF', 'CocaCola', 'CooperativeBank', 'Danone', 'GE',\n",
    "comp_list = ['Apple', 'BASF', 'CocaCola', 'Danone', 'GE',\n",
    "             'IKEA',  'Interface', 'MS', 'NIKE', 'Natura', 'Nestle', 'NovoNordisk',\n",
    "             'Patagonia', 'Puma', 'Siemens', 'Tesla', 'Toyota', 'Unilever', 'Walmart']"
   ]
  },
  {
   "cell_type": "code",
   "execution_count": null,
   "metadata": {},
   "outputs": [],
   "source": [
    "gp_comp_Tr = gp_comp_T.copy()"
   ]
  },
  {
   "cell_type": "code",
   "execution_count": null,
   "metadata": {},
   "outputs": [],
   "source": [
    "for comp in comp_list:\n",
    "    gp_comp_Tr[comp,'3_ratio'] = ((gp_comp_Tr[comp,'2_AFTER'] - gp_comp_Tr[comp,'1_BEFORE']) * 100 / gp_comp_Tr[comp,'1_BEFORE']).round(2)"
   ]
  },
  {
   "cell_type": "code",
   "execution_count": null,
   "metadata": {},
   "outputs": [],
   "source": [
    "gp_comp_Tr.sort_index(level=0,axis=1, inplace=True)"
   ]
  },
  {
   "cell_type": "code",
   "execution_count": null,
   "metadata": {},
   "outputs": [],
   "source": [
    "gp_comp_Tr"
   ]
  },
  {
   "cell_type": "markdown",
   "metadata": {},
   "source": [
    "### Chart - 기업별 Goal 점수: Before & After 비교 - 기업 기준"
   ]
  },
  {
   "cell_type": "code",
   "execution_count": null,
   "metadata": {},
   "outputs": [],
   "source": [
    "# 기업명 설정\n",
    "comp_name = comp_list[0]\n",
    "\n",
    "#gp_comp_T[comp_name].plot(kind='bar', rot=10, alpha=0.8)\n",
    "gp_comp_Tr[comp_name].plot(kind='bar', rot=10, alpha=0.8)\n",
    "plt.title('< {} >'.format(comp_name))\n",
    "plt.legend(loc='best')\n",
    "plt.show()"
   ]
  },
  {
   "cell_type": "code",
   "execution_count": null,
   "metadata": {
    "scrolled": false
   },
   "outputs": [],
   "source": [
    "# 기업명 설정\n",
    "comp_name = comp_list[1]\n",
    "\n",
    "#gp_comp_T[comp_name].plot(kind='bar', rot=10, alpha=0.8)\n",
    "gp_comp_Tr[comp_name].plot(kind='bar', rot=10, alpha=0.8)\n",
    "plt.title('< {} >'.format(comp_name))\n",
    "plt.legend(loc='best')\n",
    "plt.show()"
   ]
  },
  {
   "cell_type": "code",
   "execution_count": null,
   "metadata": {},
   "outputs": [],
   "source": [
    "# 기업명 설정\n",
    "comp_name = comp_list[2]\n",
    "\n",
    "#gp_comp_T[comp_name].plot(kind='bar', rot=10, alpha=0.8)\n",
    "gp_comp_Tr[comp_name].plot(kind='bar', rot=10, alpha=0.8)\n",
    "plt.title('< {} >'.format(comp_name))\n",
    "plt.legend(loc='best')\n",
    "plt.show()"
   ]
  },
  {
   "cell_type": "code",
   "execution_count": null,
   "metadata": {},
   "outputs": [],
   "source": [
    "# 기업명 설정\n",
    "comp_name = comp_list[3]\n",
    "\n",
    "#gp_comp_T[comp_name].plot(kind='bar', rot=10, alpha=0.8)\n",
    "gp_comp_Tr[comp_name].plot(kind='bar', rot=10, alpha=0.8)\n",
    "plt.title('< {} >'.format(comp_name))\n",
    "plt.legend(loc='best')\n",
    "plt.show()"
   ]
  },
  {
   "cell_type": "code",
   "execution_count": null,
   "metadata": {},
   "outputs": [],
   "source": [
    "# 기업명 설정\n",
    "comp_name = comp_list[4]\n",
    "\n",
    "#gp_comp_T[comp_name].plot(kind='bar', rot=10, alpha=0.8)\n",
    "gp_comp_Tr[comp_name].plot(kind='bar', rot=10, alpha=0.8)\n",
    "plt.title('< {} >'.format(comp_name))\n",
    "plt.legend(loc='best')\n",
    "plt.show()"
   ]
  },
  {
   "cell_type": "code",
   "execution_count": null,
   "metadata": {},
   "outputs": [],
   "source": [
    "# 기업명 설정\n",
    "comp_name = comp_list[5]\n",
    "\n",
    "#gp_comp_T[comp_name].plot(kind='bar', rot=10, alpha=0.8)\n",
    "gp_comp_Tr[comp_name].plot(kind='bar', rot=10, alpha=0.8)\n",
    "plt.title('< {} >'.format(comp_name))\n",
    "plt.legend(loc='best')\n",
    "plt.show()"
   ]
  },
  {
   "cell_type": "code",
   "execution_count": null,
   "metadata": {},
   "outputs": [],
   "source": [
    "# 기업명 설정\n",
    "comp_name = comp_list[6]\n",
    "\n",
    "#gp_comp_T[comp_name].plot(kind='bar', rot=10, alpha=0.8)\n",
    "gp_comp_Tr[comp_name].plot(kind='bar', rot=10, alpha=0.8)\n",
    "plt.title('< {} >'.format(comp_name))\n",
    "plt.legend(loc='best')\n",
    "plt.show()"
   ]
  },
  {
   "cell_type": "code",
   "execution_count": null,
   "metadata": {},
   "outputs": [],
   "source": [
    "# 기업명 설정\n",
    "comp_name = comp_list[7]\n",
    "\n",
    "#gp_comp_T[comp_name].plot(kind='bar', rot=10, alpha=0.8)\n",
    "gp_comp_Tr[comp_name].plot(kind='bar', rot=10, alpha=0.8)\n",
    "plt.title('< {} >'.format(comp_name))\n",
    "plt.legend(loc='best')\n",
    "plt.show()"
   ]
  },
  {
   "cell_type": "code",
   "execution_count": null,
   "metadata": {},
   "outputs": [],
   "source": [
    "# 기업명 설정\n",
    "comp_name = comp_list[8]\n",
    "\n",
    "#gp_comp_T[comp_name].plot(kind='bar', rot=10, alpha=0.8)\n",
    "gp_comp_Tr[comp_name].plot(kind='bar', rot=10, alpha=0.8)\n",
    "plt.title('< {} >'.format(comp_name))\n",
    "plt.legend(loc='best')\n",
    "plt.show()"
   ]
  },
  {
   "cell_type": "code",
   "execution_count": null,
   "metadata": {},
   "outputs": [],
   "source": [
    "# 기업명 설정\n",
    "comp_name = comp_list[9]\n",
    "\n",
    "#gp_comp_T[comp_name].plot(kind='bar', rot=10, alpha=0.8)\n",
    "gp_comp_Tr[comp_name].plot(kind='bar', rot=10, alpha=0.8)\n",
    "plt.title('< {} >'.format(comp_name))\n",
    "plt.legend(loc='best')\n",
    "plt.show()"
   ]
  },
  {
   "cell_type": "code",
   "execution_count": null,
   "metadata": {},
   "outputs": [],
   "source": [
    "# 기업명 설정\n",
    "comp_name = comp_list[10]\n",
    "\n",
    "#gp_comp_T[comp_name].plot(kind='bar', rot=10, alpha=0.8)\n",
    "gp_comp_Tr[comp_name].plot(kind='bar', rot=10, alpha=0.8)\n",
    "plt.title('< {} >'.format(comp_name))\n",
    "plt.legend(loc='best')\n",
    "plt.show()"
   ]
  },
  {
   "cell_type": "code",
   "execution_count": null,
   "metadata": {},
   "outputs": [],
   "source": [
    "# 기업명 설정\n",
    "comp_name = comp_list[11]\n",
    "\n",
    "#gp_comp_T[comp_name].plot(kind='bar', rot=10, alpha=0.8)\n",
    "gp_comp_Tr[comp_name].plot(kind='bar', rot=10, alpha=0.8)\n",
    "plt.title('< {} >'.format(comp_name))\n",
    "plt.legend(loc='best')\n",
    "plt.show()"
   ]
  },
  {
   "cell_type": "code",
   "execution_count": null,
   "metadata": {},
   "outputs": [],
   "source": [
    "# 기업명 설정\n",
    "comp_name = comp_list[12]\n",
    "\n",
    "#gp_comp_T[comp_name].plot(kind='bar', rot=10, alpha=0.8)\n",
    "gp_comp_Tr[comp_name].plot(kind='bar', rot=10, alpha=0.8)\n",
    "plt.title('< {} >'.format(comp_name))\n",
    "plt.legend(loc='best')\n",
    "plt.show()"
   ]
  },
  {
   "cell_type": "code",
   "execution_count": null,
   "metadata": {},
   "outputs": [],
   "source": [
    "# 기업명 설정\n",
    "comp_name = comp_list[13]\n",
    "\n",
    "#gp_comp_T[comp_name].plot(kind='bar', rot=10, alpha=0.8)\n",
    "gp_comp_Tr[comp_name].plot(kind='bar', rot=10, alpha=0.8)\n",
    "plt.title('< {} >'.format(comp_name))\n",
    "plt.legend(loc='best')\n",
    "plt.show()"
   ]
  },
  {
   "cell_type": "code",
   "execution_count": null,
   "metadata": {},
   "outputs": [],
   "source": [
    "# 기업명 설정\n",
    "comp_name = comp_list[14]\n",
    "\n",
    "#gp_comp_T[comp_name].plot(kind='bar', rot=10, alpha=0.8)\n",
    "gp_comp_Tr[comp_name].plot(kind='bar', rot=10, alpha=0.8)\n",
    "plt.title('< {} >'.format(comp_name))\n",
    "plt.legend(loc='best')\n",
    "plt.show()"
   ]
  },
  {
   "cell_type": "code",
   "execution_count": null,
   "metadata": {},
   "outputs": [],
   "source": [
    "# 기업명 설정\n",
    "comp_name = comp_list[15]\n",
    "\n",
    "#gp_comp_T[comp_name].plot(kind='bar', rot=10, alpha=0.8)\n",
    "gp_comp_Tr[comp_name].plot(kind='bar', rot=10, alpha=0.8)\n",
    "plt.title('< {} >'.format(comp_name))\n",
    "plt.legend(loc='best')\n",
    "plt.show()"
   ]
  },
  {
   "cell_type": "code",
   "execution_count": null,
   "metadata": {},
   "outputs": [],
   "source": [
    "# 기업명 설정\n",
    "comp_name = comp_list[16]\n",
    "\n",
    "#gp_comp_T[comp_name].plot(kind='bar', rot=10, alpha=0.8)\n",
    "gp_comp_Tr[comp_name].plot(kind='bar', rot=10, alpha=0.8)\n",
    "plt.title('< {} >'.format(comp_name))\n",
    "plt.legend(loc='best')\n",
    "plt.show()"
   ]
  },
  {
   "cell_type": "code",
   "execution_count": null,
   "metadata": {},
   "outputs": [],
   "source": [
    "# 기업명 설정\n",
    "comp_name = comp_list[17]\n",
    "\n",
    "#gp_comp_T[comp_name].plot(kind='bar', rot=10, alpha=0.8)\n",
    "gp_comp_Tr[comp_name].plot(kind='bar', rot=10, alpha=0.8)\n",
    "plt.title('< {} >'.format(comp_name))\n",
    "plt.legend(loc='best')\n",
    "plt.show()"
   ]
  },
  {
   "cell_type": "code",
   "execution_count": null,
   "metadata": {},
   "outputs": [],
   "source": [
    "# 기업명 설정\n",
    "comp_name = comp_list[18]\n",
    "\n",
    "#gp_comp_T[comp_name].plot(kind='bar', rot=10, alpha=0.8)\n",
    "gp_comp_Tr[comp_name].plot(kind='bar', rot=10, alpha=0.8)\n",
    "plt.title('< {} >'.format(comp_name))\n",
    "plt.legend(loc='best')\n",
    "plt.show()"
   ]
  },
  {
   "cell_type": "code",
   "execution_count": null,
   "metadata": {},
   "outputs": [],
   "source": [
    "# 기업명 설정\n",
    "#comp_name = comp_list[19]\n",
    "\n",
    "#gp_comp_T[comp_name].plot(kind='bar', rot=10, alpha=0.8)\n",
    "#gp_comp_Tr[comp_name].plot(kind='bar', rot=10, alpha=0.8)\n",
    "#plt.title('< {} >'.format(comp_name))\n",
    "#plt.legend(loc='best')\n",
    "#plt.show()"
   ]
  },
  {
   "cell_type": "markdown",
   "metadata": {},
   "source": [
    "---"
   ]
  },
  {
   "cell_type": "markdown",
   "metadata": {},
   "source": [
    "## 2. Goal별 성장률"
   ]
  },
  {
   "cell_type": "markdown",
   "metadata": {},
   "source": [
    "### Goal별 점수(유사도 평균) 계산 - Before/After"
   ]
  },
  {
   "cell_type": "code",
   "execution_count": null,
   "metadata": {},
   "outputs": [],
   "source": [
    "gp_c = df_n.groupby(['class_type']).mean()\n",
    "gp_c.drop('doc_id', axis=1, inplace=True)\n",
    "gp_c = gp_c.T"
   ]
  },
  {
   "cell_type": "code",
   "execution_count": null,
   "metadata": {
    "scrolled": false
   },
   "outputs": [],
   "source": [
    "gp_c"
   ]
  },
  {
   "cell_type": "markdown",
   "metadata": {},
   "source": [
    "### Goal별 성장률 - Before --> After"
   ]
  },
  {
   "cell_type": "code",
   "execution_count": null,
   "metadata": {},
   "outputs": [],
   "source": [
    "gp_c['ratio'] = (gp_c['2_AFTER'] - gp_c['1_BEFORE']) * 100 / gp_c['1_BEFORE']\n",
    "gp_c['ratio'] = gp_c['ratio'].round(2)"
   ]
  },
  {
   "cell_type": "code",
   "execution_count": null,
   "metadata": {},
   "outputs": [],
   "source": [
    "gp_c"
   ]
  },
  {
   "cell_type": "markdown",
   "metadata": {},
   "source": [
    "---"
   ]
  },
  {
   "cell_type": "code",
   "execution_count": null,
   "metadata": {},
   "outputs": [],
   "source": [
    "# End of file"
   ]
  },
  {
   "cell_type": "code",
   "execution_count": null,
   "metadata": {},
   "outputs": [],
   "source": []
  }
 ],
 "metadata": {
  "kernelspec": {
   "display_name": "Python 3 (ipykernel)",
   "language": "python",
   "name": "python3"
  },
  "language_info": {
   "codemirror_mode": {
    "name": "ipython",
    "version": 3
   },
   "file_extension": ".py",
   "mimetype": "text/x-python",
   "name": "python",
   "nbconvert_exporter": "python",
   "pygments_lexer": "ipython3",
   "version": "3.9.7"
  },
  "vip": {
   "base_numbering": 1,
   "nav_menu": {},
   "number_sections": true,
   "sideBar": true,
   "title_cell": "Visual Python",
   "title_sidebar": "Visual Python",
   "vip_cell": false,
   "vip_position": {},
   "vip_section_display": true,
   "vip_window_display": false
  },
  "vp": {
   "base_numbering": 1,
   "nav_menu": {},
   "number_sections": true,
   "sideBar": true,
   "title_cell": "VisualPython",
   "title_sidebar": "VisualPython",
   "vpPosition": {
    "height": "calc(100% - 180px)",
    "right": "10px",
    "top": "110px",
    "width": "50%"
   },
   "vp_cell": false,
   "vp_section_display": true,
   "vp_window_display": false
  }
 },
 "nbformat": 4,
 "nbformat_minor": 2
}
