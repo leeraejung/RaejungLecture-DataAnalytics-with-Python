{
 "cells": [
  {
   "cell_type": "markdown",
   "metadata": {},
   "source": [
    "# Document Similarity"
   ]
  },
  {
   "cell_type": "markdown",
   "metadata": {},
   "source": [
    "## Analyse data case 04"
   ]
  },
  {
   "cell_type": "markdown",
   "metadata": {},
   "source": [
    "---"
   ]
  },
  {
   "cell_type": "code",
   "execution_count": null,
   "metadata": {},
   "outputs": [],
   "source": [
    "import numpy as np\n",
    "import pandas as pd\n",
    "import matplotlib.pyplot as plt\n",
    "%matplotlib inline\n"
   ]
  },
  {
   "cell_type": "code",
   "execution_count": null,
   "metadata": {},
   "outputs": [],
   "source": [
    "from matplotlib import style\n",
    "style.use('ggplot')\n",
    "\n",
    "plt.rc('figure', figsize=(40, 20))\n",
    "\n",
    "from matplotlib import rcParams\n",
    "rcParams['font.size'] = 30\n",
    "rcParams['axes.unicode_minus'] = False\n"
   ]
  },
  {
   "cell_type": "markdown",
   "metadata": {},
   "source": [
    "### Define value"
   ]
  },
  {
   "cell_type": "code",
   "execution_count": null,
   "metadata": {},
   "outputs": [],
   "source": [
    "fname_result = 'data/result_score.pkl'"
   ]
  },
  {
   "cell_type": "markdown",
   "metadata": {},
   "source": [
    "### Load contents file (pickle)"
   ]
  },
  {
   "cell_type": "code",
   "execution_count": null,
   "metadata": {},
   "outputs": [],
   "source": [
    "df_c = pd.read_pickle(fname_result)"
   ]
  },
  {
   "cell_type": "code",
   "execution_count": null,
   "metadata": {
    "scrolled": false
   },
   "outputs": [],
   "source": [
    "df_c.columns"
   ]
  },
  {
   "cell_type": "code",
   "execution_count": null,
   "metadata": {},
   "outputs": [],
   "source": [
    "df_c.loc[df_c['class_type'] == 'B','class_type'] = '1_BEFORE'\n",
    "df_c.loc[df_c['class_type'] == 'A','class_type'] = '2_AFTER'"
   ]
  },
  {
   "cell_type": "markdown",
   "metadata": {},
   "source": [
    "### Normalization"
   ]
  },
  {
   "cell_type": "code",
   "execution_count": null,
   "metadata": {},
   "outputs": [],
   "source": [
    "col_list1 = list(df_c.columns[:5])\n",
    "col_list2 = list(df_c.columns[5:])"
   ]
  },
  {
   "cell_type": "code",
   "execution_count": null,
   "metadata": {},
   "outputs": [],
   "source": [
    "MAX = df_c[col_list2].max().max()\n",
    "MAX"
   ]
  },
  {
   "cell_type": "code",
   "execution_count": null,
   "metadata": {},
   "outputs": [],
   "source": [
    "MIN = df_c[col_list2].min().min()\n",
    "MIN"
   ]
  },
  {
   "cell_type": "code",
   "execution_count": null,
   "metadata": {},
   "outputs": [],
   "source": [
    "def func(x):\n",
    "    return (x - MIN) * 100 / (MAX - MIN)"
   ]
  },
  {
   "cell_type": "code",
   "execution_count": null,
   "metadata": {},
   "outputs": [],
   "source": [
    "df_n = pd.concat([df_c[col_list1], df_c[col_list2].applymap(func)], axis=1)"
   ]
  },
  {
   "cell_type": "markdown",
   "metadata": {},
   "source": [
    "## 1. 기업(comp)별 집계"
   ]
  },
  {
   "cell_type": "markdown",
   "metadata": {},
   "source": [
    "### 기업별 분류 컬럼 추가"
   ]
  },
  {
   "cell_type": "code",
   "execution_count": null,
   "metadata": {},
   "outputs": [],
   "source": [
    "df_n['company'] = df_n['fname'].str.split('_').apply(lambda x: x[0])"
   ]
  },
  {
   "cell_type": "markdown",
   "metadata": {},
   "source": [
    "### 년도 분류 컬럼 추가"
   ]
  },
  {
   "cell_type": "code",
   "execution_count": null,
   "metadata": {},
   "outputs": [],
   "source": [
    "df_n['year'] = df_n['fname'].str.split(r'_|\\(|\\-|\\.').apply(lambda x: x[1])"
   ]
  },
  {
   "cell_type": "code",
   "execution_count": null,
   "metadata": {},
   "outputs": [],
   "source": [
    "df_n"
   ]
  },
  {
   "cell_type": "markdown",
   "metadata": {},
   "source": [
    "---"
   ]
  },
  {
   "cell_type": "markdown",
   "metadata": {},
   "source": [
    "### 1.1 기업별 Goal 점수(유사도 평균) 계산 - 기업별, 연도별"
   ]
  },
  {
   "cell_type": "code",
   "execution_count": null,
   "metadata": {},
   "outputs": [],
   "source": [
    "gp_comp = df_n.groupby(['year','company']).mean(numeric_only=True)\n",
    "gp_comp.drop('doc_id', axis=1, inplace=True)\n",
    "gp_comp = gp_comp.unstack()\n",
    "gp_comp = gp_comp.swaplevel(axis=1).sort_index(axis=1,level=0)"
   ]
  },
  {
   "cell_type": "code",
   "execution_count": null,
   "metadata": {
    "scrolled": false
   },
   "outputs": [],
   "source": [
    "gp_comp"
   ]
  },
  {
   "cell_type": "code",
   "execution_count": null,
   "metadata": {},
   "outputs": [],
   "source": [
    "# 기업 리스트\n",
    "#comp_list = ['Apple', 'BASF', 'CocaCola', 'CooperativeBank', 'Danone', 'GE',\n",
    "comp_list = ['Apple', 'BASF', 'CocaCola', 'Danone', 'GE',\n",
    "             'IKEA',  'Interface', 'MS', 'NIKE', 'Natura', 'Nestle', 'NovoNordisk',\n",
    "             'Patagonia', 'Puma', 'Siemens', 'Tesla', 'Toyota', 'Unilever', 'Walmart']"
   ]
  },
  {
   "cell_type": "code",
   "execution_count": null,
   "metadata": {},
   "outputs": [],
   "source": [
    "# 기업명 설정\n",
    "comp_name = comp_list[0]\n",
    "\n",
    "gp_comp[comp_name].plot(rot=10, alpha=0.8)\n",
    "plt.title('< {} >'.format(comp_name))\n",
    "plt.legend(loc='best')\n",
    "plt.show()"
   ]
  },
  {
   "cell_type": "code",
   "execution_count": null,
   "metadata": {},
   "outputs": [],
   "source": [
    "# 기업명 설정\n",
    "comp_name = comp_list[1]\n",
    "\n",
    "gp_comp[comp_name].plot(rot=10, alpha=0.8)\n",
    "plt.title('< {} >'.format(comp_name))\n",
    "plt.legend(loc='best')\n",
    "plt.show()"
   ]
  },
  {
   "cell_type": "code",
   "execution_count": null,
   "metadata": {},
   "outputs": [],
   "source": [
    "# 기업명 설정\n",
    "comp_name = comp_list[2]\n",
    "\n",
    "gp_comp[comp_name].plot(rot=10, alpha=0.8)\n",
    "plt.title('< {} >'.format(comp_name))\n",
    "plt.legend(loc='best')\n",
    "plt.show()"
   ]
  },
  {
   "cell_type": "code",
   "execution_count": null,
   "metadata": {},
   "outputs": [],
   "source": [
    "# 기업명 설정\n",
    "comp_name = comp_list[3]\n",
    "\n",
    "gp_comp[comp_name].plot(rot=10, alpha=0.8)\n",
    "plt.title('< {} >'.format(comp_name))\n",
    "plt.legend(loc='best')\n",
    "plt.show()"
   ]
  },
  {
   "cell_type": "code",
   "execution_count": null,
   "metadata": {},
   "outputs": [],
   "source": [
    "# 기업명 설정\n",
    "comp_name = comp_list[4]\n",
    "\n",
    "gp_comp[comp_name].plot(rot=10, alpha=0.8)\n",
    "plt.title('< {} >'.format(comp_name))\n",
    "plt.legend(loc='best')\n",
    "plt.show()"
   ]
  },
  {
   "cell_type": "code",
   "execution_count": null,
   "metadata": {},
   "outputs": [],
   "source": [
    "# 기업명 설정\n",
    "comp_name = comp_list[5]\n",
    "\n",
    "gp_comp[comp_name].plot(rot=10, alpha=0.8)\n",
    "plt.title('< {} >'.format(comp_name))\n",
    "plt.legend(loc='best')\n",
    "plt.show()"
   ]
  },
  {
   "cell_type": "code",
   "execution_count": null,
   "metadata": {},
   "outputs": [],
   "source": [
    "# 기업명 설정\n",
    "comp_name = comp_list[6]\n",
    "\n",
    "gp_comp[comp_name].plot(rot=10, alpha=0.8)\n",
    "plt.title('< {} >'.format(comp_name))\n",
    "plt.legend(loc='best')\n",
    "plt.show()"
   ]
  },
  {
   "cell_type": "code",
   "execution_count": null,
   "metadata": {},
   "outputs": [],
   "source": [
    "# 기업명 설정\n",
    "comp_name = comp_list[7]\n",
    "\n",
    "gp_comp[comp_name].plot(rot=10, alpha=0.8)\n",
    "plt.title('< {} >'.format(comp_name))\n",
    "plt.legend(loc='best')\n",
    "plt.show()"
   ]
  },
  {
   "cell_type": "code",
   "execution_count": null,
   "metadata": {},
   "outputs": [],
   "source": [
    "# 기업명 설정\n",
    "comp_name = comp_list[8]\n",
    "\n",
    "gp_comp[comp_name].plot(rot=10, alpha=0.8)\n",
    "plt.title('< {} >'.format(comp_name))\n",
    "plt.legend(loc='best')\n",
    "plt.show()"
   ]
  },
  {
   "cell_type": "code",
   "execution_count": null,
   "metadata": {},
   "outputs": [],
   "source": [
    "# 기업명 설정\n",
    "comp_name = comp_list[9]\n",
    "\n",
    "gp_comp[comp_name].plot(rot=10, alpha=0.8)\n",
    "plt.title('< {} >'.format(comp_name))\n",
    "plt.legend(loc='best')\n",
    "plt.show()"
   ]
  },
  {
   "cell_type": "code",
   "execution_count": null,
   "metadata": {},
   "outputs": [],
   "source": [
    "# 기업명 설정\n",
    "comp_name = comp_list[10]\n",
    "\n",
    "gp_comp[comp_name].plot(rot=10, alpha=0.8)\n",
    "plt.title('< {} >'.format(comp_name))\n",
    "plt.legend(loc='best')\n",
    "plt.show()"
   ]
  },
  {
   "cell_type": "code",
   "execution_count": null,
   "metadata": {},
   "outputs": [],
   "source": [
    "# 기업명 설정\n",
    "comp_name = comp_list[11]\n",
    "\n",
    "gp_comp[comp_name].plot(rot=10, alpha=0.8)\n",
    "plt.title('< {} >'.format(comp_name))\n",
    "plt.legend(loc='best')\n",
    "plt.show()"
   ]
  },
  {
   "cell_type": "code",
   "execution_count": null,
   "metadata": {},
   "outputs": [],
   "source": [
    "# 기업명 설정\n",
    "comp_name = comp_list[12]\n",
    "\n",
    "gp_comp[comp_name].plot(rot=10, alpha=0.8)\n",
    "plt.title('< {} >'.format(comp_name))\n",
    "plt.legend(loc='best')\n",
    "plt.show()"
   ]
  },
  {
   "cell_type": "code",
   "execution_count": null,
   "metadata": {},
   "outputs": [],
   "source": [
    "# 기업명 설정\n",
    "comp_name = comp_list[13]\n",
    "\n",
    "gp_comp[comp_name].plot(rot=10, alpha=0.8)\n",
    "plt.title('< {} >'.format(comp_name))\n",
    "plt.legend(loc='best')\n",
    "plt.show()"
   ]
  },
  {
   "cell_type": "code",
   "execution_count": null,
   "metadata": {},
   "outputs": [],
   "source": [
    "# 기업명 설정\n",
    "comp_name = comp_list[14]\n",
    "\n",
    "gp_comp[comp_name].plot(rot=10, alpha=0.8)\n",
    "plt.title('< {} >'.format(comp_name))\n",
    "plt.legend(loc='best')\n",
    "plt.show()"
   ]
  },
  {
   "cell_type": "code",
   "execution_count": null,
   "metadata": {},
   "outputs": [],
   "source": [
    "# 기업명 설정\n",
    "comp_name = comp_list[15]\n",
    "\n",
    "gp_comp[comp_name].plot(rot=10, alpha=0.8)\n",
    "plt.title('< {} >'.format(comp_name))\n",
    "plt.legend(loc='best')\n",
    "plt.show()"
   ]
  },
  {
   "cell_type": "code",
   "execution_count": null,
   "metadata": {},
   "outputs": [],
   "source": [
    "# 기업명 설정\n",
    "comp_name = comp_list[16]\n",
    "\n",
    "gp_comp[comp_name].plot(rot=10, alpha=0.8)\n",
    "plt.title('< {} >'.format(comp_name))\n",
    "plt.legend(loc='best')\n",
    "plt.show()"
   ]
  },
  {
   "cell_type": "code",
   "execution_count": null,
   "metadata": {},
   "outputs": [],
   "source": [
    "# 기업명 설정\n",
    "comp_name = comp_list[17]\n",
    "\n",
    "gp_comp[comp_name].plot(rot=10, alpha=0.8)\n",
    "plt.title('< {} >'.format(comp_name))\n",
    "plt.legend(loc='best')\n",
    "plt.show()"
   ]
  },
  {
   "cell_type": "code",
   "execution_count": null,
   "metadata": {},
   "outputs": [],
   "source": [
    "# 기업명 설정\n",
    "comp_name = comp_list[18]\n",
    "\n",
    "gp_comp[comp_name].plot(rot=10, alpha=0.8)\n",
    "plt.title('< {} >'.format(comp_name))\n",
    "plt.legend(loc='best')\n",
    "plt.show()"
   ]
  },
  {
   "cell_type": "code",
   "execution_count": null,
   "metadata": {},
   "outputs": [],
   "source": [
    "# 기업명 설정\n",
    "#comp_name = comp_list[19]\n",
    "\n",
    "#gp_comp[comp_name].plot(rot=10, alpha=0.8)\n",
    "#plt.title('< {} >'.format(comp_name))\n",
    "#plt.legend(loc='best')\n",
    "#plt.show()"
   ]
  },
  {
   "cell_type": "markdown",
   "metadata": {},
   "source": [
    "---"
   ]
  },
  {
   "cell_type": "code",
   "execution_count": null,
   "metadata": {},
   "outputs": [],
   "source": [
    "# End of file"
   ]
  },
  {
   "cell_type": "code",
   "execution_count": null,
   "metadata": {},
   "outputs": [],
   "source": []
  }
 ],
 "metadata": {
  "kernelspec": {
   "display_name": "Python 3 (ipykernel)",
   "language": "python",
   "name": "python3"
  },
  "language_info": {
   "codemirror_mode": {
    "name": "ipython",
    "version": 3
   },
   "file_extension": ".py",
   "mimetype": "text/x-python",
   "name": "python",
   "nbconvert_exporter": "python",
   "pygments_lexer": "ipython3",
   "version": "3.9.13"
  },
  "vip": {
   "base_numbering": 1,
   "nav_menu": {},
   "number_sections": true,
   "sideBar": true,
   "title_cell": "Visual Python",
   "title_sidebar": "Visual Python",
   "vip_cell": false,
   "vip_position": {},
   "vip_section_display": true,
   "vip_window_display": false
  },
  "vp": {
   "vp_config_version": "1.0.0",
   "vp_menu_width": 273,
   "vp_note_display": false,
   "vp_note_width": 0,
   "vp_position": {
    "width": 278
   },
   "vp_section_display": false,
   "vp_signature": "VisualPython"
  }
 },
 "nbformat": 4,
 "nbformat_minor": 2
}
