{
 "cells": [
  {
   "cell_type": "markdown",
   "metadata": {},
   "source": [
    "## [문화역세권 분석](https://www.culture.go.kr/bigdata/user/sjuvisual/sju_visualSub.do?sjuP=/visual/page01)\n",
    "- [문화역세권 데이터](https://www.bigdata-culture.kr/bigdata/user/data_market/detail.do?id=f41966cf-a563-40da-875c-5c317faee505)\n",
    "- [공공문화역세권 데이터](https://www.bigdata-culture.kr/bigdata/user/data_market/detail.do?id=a8feb92a-1c97-4f2e-8faa-7d3fa51d7a45)"
   ]
  },
  {
   "cell_type": "markdown",
   "metadata": {},
   "source": [
    "### Import Packages"
   ]
  },
  {
   "cell_type": "code",
   "execution_count": null,
   "metadata": {},
   "outputs": [],
   "source": [
    "import numpy as np\n",
    "import pandas as pd\n",
    "import matplotlib.pyplot as plt\n",
    "%matplotlib inline\n",
    "import seaborn as sns"
   ]
  },
  {
   "cell_type": "code",
   "execution_count": null,
   "metadata": {},
   "outputs": [],
   "source": [
    "# Plotly 설치방법: Anaconda Prompt 창에서 아래 커맨드를 실행 \n",
    "# pip install plotly"
   ]
  },
  {
   "cell_type": "code",
   "execution_count": null,
   "metadata": {},
   "outputs": [],
   "source": [
    "import plotly.express as px"
   ]
  },
  {
   "cell_type": "markdown",
   "metadata": {},
   "source": [
    "## 1. 전국 문화시설 수"
   ]
  },
  {
   "cell_type": "markdown",
   "metadata": {},
   "source": [
    "### Read CSV file"
   ]
  },
  {
   "cell_type": "code",
   "execution_count": null,
   "metadata": {
    "scrolled": true
   },
   "outputs": [],
   "source": [
    "df = pd.read_csv('data/01_문화역세권분석.csv')\n",
    "df"
   ]
  },
  {
   "cell_type": "markdown",
   "metadata": {},
   "source": [
    "### Edit columns"
   ]
  },
  {
   "cell_type": "code",
   "execution_count": null,
   "metadata": {},
   "outputs": [],
   "source": [
    "df.rename(columns={'id': '고유ID', 'lclas': 'L1 대분류', 'mlsfc': 'L2 중분류', 'fclt_name': '시설명', \n",
    "                   'ctprvn_nm': '시도', 'sgnr_nm': '시군구', 'legaldong_cd': '법정동코드', \n",
    "                   'legalemd_nm': '법정읍면동명', 'adstrd_cd': '행정동코드', \n",
    "                   'adstrd_nm': '행정동명', 'rdnmaddr_cd': '도로명주소코드', \n",
    "                   'rdnm_addr': '도로명주소', 'zip_cd': '우편번호', 'grid_cd': '격자코드', \n",
    "                   'x_cd': 'X좌표', 'y_cd': 'Y좌표', 'buld_totar': '시설현황 건물 연면적', \n",
    "                   'usemem_nm': '연간이용자수', 'infl_factor': '영향도지수', \n",
    "                   'file_name': '파일명', 'base_ymd': '기준일'}, inplace=True)\n",
    "                    "
   ]
  },
  {
   "cell_type": "code",
   "execution_count": null,
   "metadata": {
    "scrolled": true
   },
   "outputs": [],
   "source": [
    "df.drop(['고유ID', '시설명', '법정동코드', '행정동코드', '도로명주소코드', '격자코드',  '파일명', '기준일'], axis=1, inplace=True)\n",
    "df"
   ]
  },
  {
   "cell_type": "markdown",
   "metadata": {},
   "source": [
    "### Information"
   ]
  },
  {
   "cell_type": "code",
   "execution_count": null,
   "metadata": {},
   "outputs": [],
   "source": [
    "df['시도'].value_counts()"
   ]
  },
  {
   "cell_type": "code",
   "execution_count": null,
   "metadata": {},
   "outputs": [],
   "source": [
    "df['L2 중분류'].value_counts()"
   ]
  },
  {
   "cell_type": "markdown",
   "metadata": {},
   "source": [
    "### Groupby"
   ]
  },
  {
   "cell_type": "code",
   "execution_count": null,
   "metadata": {},
   "outputs": [],
   "source": [
    "gp_cnt = df.groupby('시도').size().reset_index()\n",
    "gp_cnt.rename(columns={0:'문화시설수'}, inplace=True)"
   ]
  },
  {
   "cell_type": "code",
   "execution_count": null,
   "metadata": {},
   "outputs": [],
   "source": [
    "gp_cnt"
   ]
  },
  {
   "cell_type": "markdown",
   "metadata": {},
   "source": [
    "### Visualization"
   ]
  },
  {
   "cell_type": "code",
   "execution_count": null,
   "metadata": {},
   "outputs": [],
   "source": [
    "fig = px.bar(gp_cnt, x='시도', y='문화시설수', color='시도', title='전국 문화시설 수')\n",
    "fig.update_xaxes(categoryorder = 'total descending')\n",
    "fig.show()"
   ]
  },
  {
   "cell_type": "markdown",
   "metadata": {},
   "source": [
    "## 2. 전국 문화시설 수 - 분류별"
   ]
  },
  {
   "cell_type": "code",
   "execution_count": null,
   "metadata": {},
   "outputs": [],
   "source": [
    "gp_cnt_cat = df.groupby(['시도','L2 중분류']).size().reset_index()\n",
    "gp_cnt_cat.rename(columns={0:'문화시설수'}, inplace=True)"
   ]
  },
  {
   "cell_type": "code",
   "execution_count": null,
   "metadata": {},
   "outputs": [],
   "source": [
    "gp_cnt_cat"
   ]
  },
  {
   "cell_type": "code",
   "execution_count": null,
   "metadata": {
    "scrolled": false
   },
   "outputs": [],
   "source": [
    "fig = px.bar(gp_cnt_cat, x='시도', y='문화시설수', color='L2 중분류', barmode='group', title ='전국 문화시설 수 - 분류별')\n",
    "fig.update_xaxes(categoryorder = 'total descending')\n",
    "fig.show()"
   ]
  },
  {
   "cell_type": "markdown",
   "metadata": {},
   "source": [
    "## 3. 전국 문화시설  영향도 지수"
   ]
  },
  {
   "cell_type": "code",
   "execution_count": null,
   "metadata": {},
   "outputs": [],
   "source": [
    "gp_eff = df.groupby('시도').mean()['영향도지수'].reset_index()"
   ]
  },
  {
   "cell_type": "code",
   "execution_count": null,
   "metadata": {},
   "outputs": [],
   "source": [
    "gp_eff"
   ]
  },
  {
   "cell_type": "code",
   "execution_count": null,
   "metadata": {},
   "outputs": [],
   "source": [
    "fig = px.bar(gp_eff, x='시도', y='영향도지수', color='시도', title='지역별 시설 영향도 지수 평균')\n",
    "fig.update_xaxes(categoryorder = 'total descending')\n",
    "fig.show()"
   ]
  },
  {
   "cell_type": "markdown",
   "metadata": {},
   "source": [
    "## 4. 전국 문화시설 위치"
   ]
  },
  {
   "cell_type": "code",
   "execution_count": null,
   "metadata": {},
   "outputs": [],
   "source": [
    "fig = px.scatter_mapbox(df, lat='X좌표', lon='Y좌표', color='시도', hover_name='L2 중분류',\n",
    "                        color_continuous_scale=px.colors.cyclical.IceFire, size_max=400, zoom=6)\n",
    "fig.update_layout(mapbox_style = 'open-street-map')\n",
    "fig.show()"
   ]
  },
  {
   "cell_type": "markdown",
   "metadata": {},
   "source": [
    "## 5. 인구 대비 전국 문화시설 수"
   ]
  },
  {
   "cell_type": "code",
   "execution_count": null,
   "metadata": {},
   "outputs": [],
   "source": [
    "df_p = pd.read_excel('data/05_인구.xlsx')\n",
    "df_p.set_index('지역', inplace=True)\n",
    "df_p"
   ]
  },
  {
   "cell_type": "code",
   "execution_count": null,
   "metadata": {},
   "outputs": [],
   "source": [
    "df_p['문화시설수'] =  df.groupby('시도').size()"
   ]
  },
  {
   "cell_type": "code",
   "execution_count": null,
   "metadata": {},
   "outputs": [],
   "source": [
    "df_p['시설수/10만명'] = (df_p['문화시설수'] * 100000 / df_p['인구']).round(2)"
   ]
  },
  {
   "cell_type": "code",
   "execution_count": null,
   "metadata": {},
   "outputs": [],
   "source": [
    "df_p"
   ]
  },
  {
   "cell_type": "code",
   "execution_count": null,
   "metadata": {},
   "outputs": [],
   "source": [
    "fig = px.bar(df_p, y='시설수/10만명', color=df_p.index, title='인구 10만명 당 문화시설 수')\n",
    "fig.update_xaxes(categoryorder = 'total descending')\n",
    "fig.show()"
   ]
  },
  {
   "cell_type": "markdown",
   "metadata": {},
   "source": [
    "## 6. 공공문화역세권 분석\n",
    "- [공공문화역세권 데이터](https://www.bigdata-culture.kr/bigdata/user/data_market/detail.do?id=a8feb92a-1c97-4f2e-8faa-7d3fa51d7a45)"
   ]
  },
  {
   "cell_type": "code",
   "execution_count": null,
   "metadata": {},
   "outputs": [],
   "source": [
    "dfpub = pd.read_csv('data/02_공공문화역세권.csv')\n",
    "dfpub"
   ]
  },
  {
   "cell_type": "code",
   "execution_count": null,
   "metadata": {},
   "outputs": [],
   "source": [
    "dfpub.rename(columns={'CTPRVN_NM': '시도', 'SGNR_NM': '시군구', 'flag_pub_cnt': '공공문화시설수',\n",
    "                      'flag_priv_cnt': '민간문화시설수', 'flag_pub_priv_cnt': '전체문화시설수',\n",
    "                      'flag_pub_rate': '공급률', 'flag_pub_percent': '공급률(%)',\n",
    "                      'FILE_NAME': '파일명', 'BASE_YMD': '기준일'}, inplace=True)\n",
    "dfpub.drop(['공급률', '파일명', '기준일'], axis=1, inplace=True)\n",
    "dfpub"
   ]
  },
  {
   "cell_type": "code",
   "execution_count": null,
   "metadata": {},
   "outputs": [],
   "source": [
    "gp_pub = dfpub.groupby('시도').agg({'공공문화시설수':'sum', '민간문화시설수':'sum', '전체문화시설수':'sum', '공급률(%)':'mean'})\n",
    "gp_pub.reset_index(inplace=True)"
   ]
  },
  {
   "cell_type": "code",
   "execution_count": null,
   "metadata": {},
   "outputs": [],
   "source": [
    "gp_pub"
   ]
  },
  {
   "cell_type": "code",
   "execution_count": null,
   "metadata": {},
   "outputs": [],
   "source": [
    "gp_pub = pd.melt(gp_pub, id_vars=['시도'])"
   ]
  },
  {
   "cell_type": "code",
   "execution_count": null,
   "metadata": {},
   "outputs": [],
   "source": [
    "gp_pub"
   ]
  },
  {
   "cell_type": "code",
   "execution_count": null,
   "metadata": {},
   "outputs": [],
   "source": [
    "fig = px.bar(gp_pub, x='시도', y='value', color='variable', barmode='group', title = '전국 문화시설 수')\n",
    "fig.update_xaxes(categoryorder = 'total descending')\n",
    "fig.show()"
   ]
  },
  {
   "cell_type": "markdown",
   "metadata": {},
   "source": [
    "---"
   ]
  },
  {
   "cell_type": "code",
   "execution_count": null,
   "metadata": {},
   "outputs": [],
   "source": [
    "# End of file"
   ]
  },
  {
   "cell_type": "code",
   "execution_count": null,
   "metadata": {},
   "outputs": [],
   "source": []
  }
 ],
 "metadata": {
  "kernelspec": {
   "display_name": "Python 3 (ipykernel)",
   "language": "python",
   "name": "python3"
  },
  "language_info": {
   "codemirror_mode": {
    "name": "ipython",
    "version": 3
   },
   "file_extension": ".py",
   "mimetype": "text/x-python",
   "name": "python",
   "nbconvert_exporter": "python",
   "pygments_lexer": "ipython3",
   "version": "3.9.7"
  },
  "vp": {
   "base_numbering": 1,
   "nav_menu": {},
   "number_sections": true,
   "sideBar": true,
   "title_cell": "VisualPython",
   "title_sidebar": "VisualPython",
   "vpPosition": {
    "height": "calc(100% - 180px)",
    "right": "10px",
    "top": "110px",
    "width": "50%"
   },
   "vp_cell": false,
   "vp_section_display": true,
   "vp_window_display": false
  }
 },
 "nbformat": 4,
 "nbformat_minor": 4
}
