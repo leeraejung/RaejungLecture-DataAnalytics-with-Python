{
 "cells": [
  {
   "cell_type": "markdown",
   "id": "4458e4b8",
   "metadata": {},
   "source": [
    "# 한국관광공사 Tour API 3.0\n",
    "* [관광데이터](https://api.visitkorea.or.kr/search/galleryList.do)"
   ]
  },
  {
   "cell_type": "markdown",
   "id": "0dda0c86",
   "metadata": {},
   "source": [
    "### 필요한 패키지 불러오기"
   ]
  },
  {
   "cell_type": "code",
   "execution_count": null,
   "id": "1848be0e",
   "metadata": {},
   "outputs": [],
   "source": [
    "import numpy as np\n",
    "import pandas as pd\n",
    "import matplotlib.pyplot as plt\n",
    "%matplotlib inline\n",
    "import seaborn as sns"
   ]
  },
  {
   "cell_type": "code",
   "execution_count": null,
   "id": "155da7a0",
   "metadata": {},
   "outputs": [],
   "source": [
    "# Plotly 설치방법: Anaconda Prompt 창에서 아래 커맨드를 실행 \n",
    "# pip install plotly "
   ]
  },
  {
   "cell_type": "code",
   "execution_count": null,
   "id": "b6b260af",
   "metadata": {},
   "outputs": [],
   "source": [
    "import plotly.express as px"
   ]
  },
  {
   "cell_type": "code",
   "execution_count": null,
   "id": "dacf081d",
   "metadata": {},
   "outputs": [],
   "source": [
    "#!pip install wordcloud"
   ]
  },
  {
   "cell_type": "code",
   "execution_count": null,
   "id": "c94da5be",
   "metadata": {},
   "outputs": [],
   "source": [
    "from collections import Counter\n",
    "from wordcloud import WordCloud"
   ]
  },
  {
   "cell_type": "markdown",
   "id": "0fb3de2e",
   "metadata": {},
   "source": [
    "### 엑셀 파일 불러오기"
   ]
  },
  {
   "cell_type": "code",
   "execution_count": null,
   "id": "748b619b",
   "metadata": {
    "scrolled": true
   },
   "outputs": [],
   "source": [
    "df = pd.read_excel('data/06_tour_data.xlsx')"
   ]
  },
  {
   "cell_type": "code",
   "execution_count": null,
   "id": "6b466a7e",
   "metadata": {},
   "outputs": [],
   "source": [
    "df_w = df.set_index('관광타입')\n",
    "df_w"
   ]
  },
  {
   "cell_type": "markdown",
   "id": "06127a95",
   "metadata": {},
   "source": [
    "### Word Cloud"
   ]
  },
  {
   "cell_type": "markdown",
   "id": "0c3ed6db",
   "metadata": {},
   "source": [
    "#### font 설정"
   ]
  },
  {
   "cell_type": "code",
   "execution_count": null,
   "id": "c470899c",
   "metadata": {},
   "outputs": [],
   "source": [
    "#font_path = '/Font/GodoM.otf'\n",
    "font_path = 'C:\\Windows\\Fonts\\gulim.ttc'"
   ]
  },
  {
   "cell_type": "markdown",
   "id": "3bdabe50",
   "metadata": {},
   "source": [
    "#### Stop word 설정"
   ]
  },
  {
   "cell_type": "code",
   "execution_count": null,
   "id": "2e3e275d",
   "metadata": {},
   "outputs": [],
   "source": [
    "stopwords = ['위치한','위치해','지닌','있다','자리한','원래']"
   ]
  },
  {
   "cell_type": "markdown",
   "id": "47797363",
   "metadata": {},
   "source": [
    "#### 텍스트 데이터 선택"
   ]
  },
  {
   "cell_type": "code",
   "execution_count": null,
   "id": "753a6cdc",
   "metadata": {},
   "outputs": [],
   "source": [
    "df_w.index.unique()"
   ]
  },
  {
   "cell_type": "code",
   "execution_count": null,
   "id": "f365f349",
   "metadata": {},
   "outputs": [],
   "source": [
    "#\n",
    "# 사용자 설정\n",
    "#\n",
    "name = '레포츠'"
   ]
  },
  {
   "cell_type": "code",
   "execution_count": null,
   "id": "24a3d6f0",
   "metadata": {},
   "outputs": [],
   "source": [
    "text = df_w.loc[name,'개요_형태소'].to_string()"
   ]
  },
  {
   "cell_type": "code",
   "execution_count": null,
   "id": "ced4fef9",
   "metadata": {},
   "outputs": [],
   "source": [
    "# 가장 많이 나온 단어부터 200개를 저장한다.\n",
    "counts = Counter(text.split())\n",
    "tags = counts.most_common(200) "
   ]
  },
  {
   "cell_type": "markdown",
   "id": "dfbf4487",
   "metadata": {},
   "source": [
    "#### Word Cloud 생성"
   ]
  },
  {
   "cell_type": "code",
   "execution_count": null,
   "id": "3c827989",
   "metadata": {},
   "outputs": [],
   "source": [
    "wc = WordCloud(max_font_size=200, stopwords=stopwords,\n",
    "                  font_path=font_path,\n",
    "                  background_color='white', width=1000, height=800)\n",
    "\n",
    "cloud = wc.generate_from_frequencies(dict(tags))\n",
    "\n",
    "plt.figure(figsize=(8, 20))\n",
    "plt.imshow(cloud)\n",
    "plt.tight_layout(pad=0)\n",
    "plt.axis('off')\n",
    "plt.show()"
   ]
  },
  {
   "cell_type": "markdown",
   "id": "2e745c05",
   "metadata": {},
   "source": [
    "---"
   ]
  },
  {
   "cell_type": "code",
   "execution_count": null,
   "id": "0ad3e3c5",
   "metadata": {},
   "outputs": [],
   "source": [
    " # End of file"
   ]
  },
  {
   "cell_type": "code",
   "execution_count": null,
   "id": "1f98640b",
   "metadata": {},
   "outputs": [],
   "source": []
  }
 ],
 "metadata": {
  "kernelspec": {
   "display_name": "Python 3 (ipykernel)",
   "language": "python",
   "name": "python3"
  },
  "language_info": {
   "codemirror_mode": {
    "name": "ipython",
    "version": 3
   },
   "file_extension": ".py",
   "mimetype": "text/x-python",
   "name": "python",
   "nbconvert_exporter": "python",
   "pygments_lexer": "ipython3",
   "version": "3.9.7"
  },
  "vp": {
   "base_numbering": 1,
   "nav_menu": {},
   "number_sections": true,
   "sideBar": true,
   "title_cell": "VisualPython",
   "title_sidebar": "VisualPython",
   "vpPosition": {
    "height": "calc(100% - 180px)",
    "right": "10px",
    "top": "110px",
    "width": "50%"
   },
   "vp_cell": false,
   "vp_section_display": true,
   "vp_window_display": false
  }
 },
 "nbformat": 4,
 "nbformat_minor": 5
}
