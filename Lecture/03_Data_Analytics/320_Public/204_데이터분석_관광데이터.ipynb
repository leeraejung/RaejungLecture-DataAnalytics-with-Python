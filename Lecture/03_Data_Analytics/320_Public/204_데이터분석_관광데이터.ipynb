{
 "cells": [
  {
   "cell_type": "markdown",
   "id": "7aaf9ed5",
   "metadata": {},
   "source": [
    "# 한국관광공사 Tour API 3.0 - Answer\n",
    "* [관광데이터](https://api.visitkorea.or.kr/search/galleryList.do)"
   ]
  },
  {
   "cell_type": "markdown",
   "id": "6d1e9386",
   "metadata": {},
   "source": [
    "## 1. 데이터분석 환경 셋팅"
   ]
  },
  {
   "cell_type": "markdown",
   "id": "0ed8660a",
   "metadata": {},
   "source": [
    "### 필요한 패키지 불러오기"
   ]
  },
  {
   "cell_type": "code",
   "execution_count": null,
   "id": "0f3c5ece",
   "metadata": {},
   "outputs": [],
   "source": [
    "import numpy as np\n",
    "import pandas as pd\n",
    "import matplotlib.pyplot as plt\n",
    "%matplotlib inline\n",
    "import seaborn as sns"
   ]
  },
  {
   "cell_type": "code",
   "execution_count": null,
   "id": "17035e68",
   "metadata": {},
   "outputs": [],
   "source": [
    "# Plotly 설치방법: Anaconda Prompt 창에서 아래 커맨드를 실행 \n",
    "# pip install plotly "
   ]
  },
  {
   "cell_type": "code",
   "execution_count": null,
   "id": "59410981",
   "metadata": {},
   "outputs": [],
   "source": [
    "import plotly.express as px"
   ]
  },
  {
   "cell_type": "markdown",
   "id": "72f802dd",
   "metadata": {},
   "source": [
    "### 엑셀 파일 불러오기"
   ]
  },
  {
   "cell_type": "code",
   "execution_count": null,
   "id": "fff6964b",
   "metadata": {
    "scrolled": true
   },
   "outputs": [],
   "source": [
    "df = pd.read_excel('data/06_tour_data.xlsx')\n",
    "df"
   ]
  },
  {
   "cell_type": "markdown",
   "id": "5abd7a5a",
   "metadata": {},
   "source": [
    "## 2. 전체 데이터 살펴보기"
   ]
  },
  {
   "cell_type": "markdown",
   "id": "e725cdde",
   "metadata": {},
   "source": [
    "### 전국 관광시설수 - 지역별"
   ]
  },
  {
   "cell_type": "code",
   "execution_count": null,
   "id": "7883f285",
   "metadata": {},
   "outputs": [],
   "source": [
    "df_reg = df.groupby('지역').size().reset_index()\n",
    "df_reg.rename(columns={0:'관광시설수'}, inplace=True)\n",
    "df_reg"
   ]
  },
  {
   "cell_type": "code",
   "execution_count": null,
   "id": "5e314b34",
   "metadata": {},
   "outputs": [],
   "source": [
    "fig = px.bar(df_reg, x='지역', y='관광시설수', color='지역', title='전국 관광시설수 - 지역별')\n",
    "fig.show()"
   ]
  },
  {
   "cell_type": "markdown",
   "id": "6625b009",
   "metadata": {},
   "source": [
    "### 전국 관광시설수 - 관광타입별"
   ]
  },
  {
   "cell_type": "code",
   "execution_count": null,
   "id": "dba69f20",
   "metadata": {},
   "outputs": [],
   "source": [
    "df_cat = df.groupby('관광타입').size().reset_index()\n",
    "df_cat.rename(columns={0:'관광시설수'}, inplace=True)\n",
    "df_cat"
   ]
  },
  {
   "cell_type": "code",
   "execution_count": null,
   "id": "c1cc3c35",
   "metadata": {},
   "outputs": [],
   "source": [
    "fig = px.bar(df_cat, x='관광타입', y='관광시설수', color='관광타입', title='전국 관광시설수 - 관광타입별')\n",
    "fig.show()"
   ]
  },
  {
   "cell_type": "markdown",
   "id": "ef443328",
   "metadata": {},
   "source": [
    "### 전국 관광시설수 - 지역별, 관광타입별"
   ]
  },
  {
   "cell_type": "code",
   "execution_count": null,
   "id": "9f0b8b21",
   "metadata": {},
   "outputs": [],
   "source": [
    "df_rc = df.groupby(['지역','관광타입']).size().reset_index()\n",
    "df_rc.rename(columns={0:'관광시설수'}, inplace=True)\n",
    "df_rc"
   ]
  },
  {
   "cell_type": "code",
   "execution_count": null,
   "id": "4373014c",
   "metadata": {},
   "outputs": [],
   "source": [
    "fig = px.bar(df_rc, x='지역', y='관광시설수', color='관광타입', barmode='group', title ='전국 관광시설수 - 지역별, 관광타입별')\n",
    "fig.show()"
   ]
  },
  {
   "cell_type": "markdown",
   "id": "44f7f9bf",
   "metadata": {},
   "source": [
    "### 전국 관광시설수 - 지도"
   ]
  },
  {
   "cell_type": "code",
   "execution_count": null,
   "id": "5c141f34",
   "metadata": {
    "scrolled": false
   },
   "outputs": [],
   "source": [
    "fig = px.scatter_mapbox(df, lat='위도', lon='경도', color='관광타입', hover_name='명칭', size_max=15, zoom=6)\n",
    "fig.update_layout(mapbox_style = 'open-street-map')\n",
    "fig.show()"
   ]
  },
  {
   "cell_type": "markdown",
   "id": "5d08129b",
   "metadata": {},
   "source": [
    "## 3. 원하는 데이터만 추출 & 분석 해보기"
   ]
  },
  {
   "cell_type": "markdown",
   "id": "bf1475e5",
   "metadata": {},
   "source": [
    "### 관광타입에서 '숙박' 만 추출"
   ]
  },
  {
   "cell_type": "markdown",
   "id": "f5a149d7",
   "metadata": {},
   "source": [
    "#### 관광타입 = '레포츠',  '관광지',  '음식점',  '문화시설',  '축제공연행사',  '여행코스',  '숙박',  '쇼핑'"
   ]
  },
  {
   "cell_type": "code",
   "execution_count": null,
   "id": "cae6f9f1",
   "metadata": {
    "scrolled": true
   },
   "outputs": [],
   "source": [
    "df_acc = df[(df['관광타입'] == '숙박')].copy()"
   ]
  },
  {
   "cell_type": "markdown",
   "id": "bcd7893f",
   "metadata": {},
   "source": [
    "#### 결측치 확인"
   ]
  },
  {
   "cell_type": "code",
   "execution_count": null,
   "id": "ca921a46",
   "metadata": {},
   "outputs": [],
   "source": [
    "df_acc.isnull().sum()"
   ]
  },
  {
   "cell_type": "markdown",
   "id": "58ffc116",
   "metadata": {},
   "source": [
    "#### 결측치 있는 컬럼 삭제"
   ]
  },
  {
   "cell_type": "code",
   "execution_count": null,
   "id": "d5f4f7d7",
   "metadata": {
    "scrolled": true
   },
   "outputs": [],
   "source": [
    "df_acc = df_acc.dropna(axis=1, how='any')\n",
    "df_acc"
   ]
  },
  {
   "cell_type": "markdown",
   "id": "a1b4499d",
   "metadata": {},
   "source": [
    "#### 시설 유/무 컬럼 선택"
   ]
  },
  {
   "cell_type": "code",
   "execution_count": null,
   "id": "944ba321",
   "metadata": {},
   "outputs": [],
   "source": [
    "col_list = ['세미나','스포츠시설','사우나실','뷰티 시설','노래방','바베큐장',\n",
    "            '캠프화이어','자전거대여','휘트니스센터','공용 PC실','공용 샤워실']"
   ]
  },
  {
   "cell_type": "code",
   "execution_count": null,
   "id": "033cb324",
   "metadata": {},
   "outputs": [],
   "source": [
    "df_acc_part = df_acc[col_list]"
   ]
  },
  {
   "cell_type": "markdown",
   "id": "11867a4d",
   "metadata": {},
   "source": [
    "#### 시설 유/무 데이터 리스트 저장"
   ]
  },
  {
   "cell_type": "code",
   "execution_count": null,
   "id": "301dbbcc",
   "metadata": {},
   "outputs": [],
   "source": [
    "df_acc_ynlist = df_acc_part.apply(pd.value_counts).reset_index()\n",
    "df_acc_ynlist"
   ]
  },
  {
   "cell_type": "code",
   "execution_count": null,
   "id": "cd34dede",
   "metadata": {
    "scrolled": true
   },
   "outputs": [],
   "source": [
    "df_tmp = df_acc_ynlist.melt(id_vars='index')\n",
    "df_tmp"
   ]
  },
  {
   "cell_type": "code",
   "execution_count": null,
   "id": "c086813a",
   "metadata": {},
   "outputs": [],
   "source": [
    "fig = px.bar(df_tmp, x='variable', y='value', color='index', barmode='group', title ='시설 유/무')\n",
    "fig.show()"
   ]
  },
  {
   "cell_type": "markdown",
   "id": "9f7f05ad",
   "metadata": {},
   "source": [
    "#### 시설 유/무 데이터 선택"
   ]
  },
  {
   "cell_type": "code",
   "execution_count": null,
   "id": "7db243c6",
   "metadata": {},
   "outputs": [],
   "source": [
    "df_acc_yn = df_acc_ynlist[['index','바베큐장']]\n",
    "df_acc_yn"
   ]
  },
  {
   "cell_type": "code",
   "execution_count": null,
   "id": "ce621715",
   "metadata": {},
   "outputs": [],
   "source": [
    "fig = px.pie(df_acc_yn, values='바베큐장', names='index', title='바베큐장 유/무 - 숙박')\n",
    "fig.show()"
   ]
  },
  {
   "cell_type": "markdown",
   "id": "14110f48",
   "metadata": {},
   "source": [
    "#### 바베큐와 자전거 대여가 가능한 숙박시설만 보기 "
   ]
  },
  {
   "cell_type": "code",
   "execution_count": null,
   "id": "3264567c",
   "metadata": {
    "scrolled": true
   },
   "outputs": [],
   "source": [
    "df_acc_ylist = df_acc.loc[(df_acc['바베큐장'] == '있음')&(df_acc['자전거대여'] == '있음'), ['지역','명칭','주소','바베큐장','자전거대여']]\n",
    "df_acc_ylist"
   ]
  },
  {
   "cell_type": "markdown",
   "id": "2be26953",
   "metadata": {},
   "source": [
    "---"
   ]
  },
  {
   "cell_type": "markdown",
   "id": "c55ec5ef",
   "metadata": {},
   "source": [
    "## [실습] 직접 해보기\n",
    "**HOW TO**: 각각의 셀 마다 ANSWER 에 들어갈 코드를 입력한 후, 셀을 실행 해보세요."
   ]
  },
  {
   "cell_type": "markdown",
   "id": "0c14d619",
   "metadata": {},
   "source": [
    "#### 관광타입에서 '관광지' 데이터만 추출하세요."
   ]
  },
  {
   "cell_type": "code",
   "execution_count": null,
   "id": "c281ce5d",
   "metadata": {
    "scrolled": true
   },
   "outputs": [],
   "source": [
    "#df_ts = df[(df['관광타입'] == '관광지')].copy()\n",
    "df_ts = df[(df['관광타입'] == 'ANSWER')].copy()\n",
    "df_ts"
   ]
  },
  {
   "cell_type": "markdown",
   "id": "06e8bae0",
   "metadata": {},
   "source": [
    "#### 결측치를 확인하세요."
   ]
  },
  {
   "cell_type": "code",
   "execution_count": null,
   "id": "79bbaa16",
   "metadata": {},
   "outputs": [],
   "source": [
    "df_ts.isnull().sum()"
   ]
  },
  {
   "cell_type": "markdown",
   "id": "1f0945bb",
   "metadata": {},
   "source": [
    "#### 1) '유모차 대여 여부'와 2) '애완동물 동반 가능 여부' 컬럼을 포함하여 데이터를 추출하세요."
   ]
  },
  {
   "cell_type": "code",
   "execution_count": null,
   "id": "c3dfbe1a",
   "metadata": {
    "scrolled": true
   },
   "outputs": [],
   "source": [
    "#df_ts = df_ts[['지역','관광타입','명칭','주소','위도','경도','개요','유모차 대여 여부','애완동물 동반 가능 여부']]\n",
    "df_ts = df_ts[['지역','관광타입','명칭','주소','위도','경도','개요','ANSWER','ANSWER']]\n",
    "df_ts"
   ]
  },
  {
   "cell_type": "markdown",
   "id": "0c9c6aef",
   "metadata": {},
   "source": [
    "#### '유모차 대여 여부' 컬럼의 value과 개수를 확인하세요."
   ]
  },
  {
   "cell_type": "code",
   "execution_count": null,
   "id": "ccaaea3c",
   "metadata": {},
   "outputs": [],
   "source": [
    "#df_ts['유모차 대여 여부'].value_counts()\n",
    "df_ts['ANSWER'].value_counts()"
   ]
  },
  {
   "cell_type": "markdown",
   "id": "6f9d3f09",
   "metadata": {
    "scrolled": true
   },
   "source": [
    "#### '애완동물 동반 가능 여부' 컬럼의 value과 개수를 확인하세요."
   ]
  },
  {
   "cell_type": "code",
   "execution_count": null,
   "id": "ba9b3ce4",
   "metadata": {
    "scrolled": true
   },
   "outputs": [],
   "source": [
    "#df_ts['애완동물 동반 가능 여부'].value_counts()\n",
    "df_ts['ANSWER'].value_counts()"
   ]
  },
  {
   "cell_type": "markdown",
   "id": "4e7c5b75",
   "metadata": {
    "collapsed": true
   },
   "source": [
    "#### 유모차 대여가 가능하고 애완동물 동반이 가능한 관광지를 추출하세요."
   ]
  },
  {
   "cell_type": "code",
   "execution_count": null,
   "id": "2d07afed",
   "metadata": {
    "scrolled": true
   },
   "outputs": [],
   "source": [
    "#df_ts_ylist = df_ts[(df_ts['유모차 대여 여부'] == '가능')& (df_ts['애완동물 동반 가능 여부'] == '가능')]\n",
    "df_ts_ylist = df_ts[(df_ts['ANSWER'] == 'ANSWER')& (df_ts['ANSWER'] == 'ANSWER')]\n",
    "df_ts_ylist"
   ]
  },
  {
   "cell_type": "markdown",
   "id": "800b62ab",
   "metadata": {},
   "source": [
    "#### 지도 차트 그리기"
   ]
  },
  {
   "cell_type": "code",
   "execution_count": null,
   "id": "1964386d",
   "metadata": {},
   "outputs": [],
   "source": [
    "#fig = px.scatter_mapbox(df_ts_ylist, lat='위도', lon='경도', hover_name='명칭', hover_data=['주소'], size_max=15, zoom=6)\n",
    "fig = px.scatter_mapbox(ANSWER, lat='ANSWER', lon='ANSWER',  hover_name='명칭', hover_data=['주소'], size_max=15, zoom=6)\n",
    "fig.update_layout(mapbox_style = 'open-street-map')\n",
    "fig.show()"
   ]
  },
  {
   "cell_type": "markdown",
   "id": "b0ee0285",
   "metadata": {},
   "source": [
    "---"
   ]
  },
  {
   "cell_type": "code",
   "execution_count": null,
   "id": "d3192148",
   "metadata": {},
   "outputs": [],
   "source": [
    " # End of file"
   ]
  },
  {
   "cell_type": "code",
   "execution_count": null,
   "id": "644716c8",
   "metadata": {},
   "outputs": [],
   "source": []
  }
 ],
 "metadata": {
  "kernelspec": {
   "display_name": "Python 3 (ipykernel)",
   "language": "python",
   "name": "python3"
  },
  "language_info": {
   "codemirror_mode": {
    "name": "ipython",
    "version": 3
   },
   "file_extension": ".py",
   "mimetype": "text/x-python",
   "name": "python",
   "nbconvert_exporter": "python",
   "pygments_lexer": "ipython3",
   "version": "3.9.7"
  },
  "vp": {
   "base_numbering": 1,
   "nav_menu": {},
   "number_sections": true,
   "sideBar": true,
   "title_cell": "VisualPython",
   "title_sidebar": "VisualPython",
   "vpPosition": {
    "height": "calc(100% - 180px)",
    "right": "10px",
    "top": "110px",
    "width": "50%"
   },
   "vp_cell": false,
   "vp_section_display": true,
   "vp_window_display": false
  }
 },
 "nbformat": 4,
 "nbformat_minor": 5
}
