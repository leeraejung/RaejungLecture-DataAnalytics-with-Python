{
 "cells": [
  {
   "cell_type": "markdown",
   "metadata": {},
   "source": [
    "# python homework 04 set1 - solution"
   ]
  },
  {
   "cell_type": "markdown",
   "metadata": {},
   "source": [
    "### 1. 'data/titanic_train.csv'파일을 로드하여 df (DataFrame)에 저장하고 내용을 출력하시오."
   ]
  },
  {
   "cell_type": "code",
   "execution_count": null,
   "metadata": {},
   "outputs": [],
   "source": [
    "import pandas as pd"
   ]
  },
  {
   "cell_type": "code",
   "execution_count": null,
   "metadata": {},
   "outputs": [],
   "source": [
    "df = pd.read_csv('data/titanic_train.csv')\n",
    "df"
   ]
  },
  {
   "cell_type": "markdown",
   "metadata": {},
   "source": [
    "### 2. df (DataFrame)의 컬럼 중 'Name', 'Fare', 'Cabin' 을 영구히 삭제하고 내용을 출력하시오."
   ]
  },
  {
   "cell_type": "code",
   "execution_count": null,
   "metadata": {
    "scrolled": true
   },
   "outputs": [],
   "source": [
    "df.drop(['Name', 'Fare', 'Cabin'], axis=1, inplace=True)\n",
    "df"
   ]
  },
  {
   "cell_type": "markdown",
   "metadata": {},
   "source": [
    "### 3. df (DataFrame)의 성별 (Sex)에 따른 생존여부 (Survived)를 행렬(합계 포함)로 표시하시오.\n",
    "- crosstab() 함수를 이용하시오."
   ]
  },
  {
   "cell_type": "code",
   "execution_count": null,
   "metadata": {},
   "outputs": [],
   "source": [
    "pd.crosstab(df['Sex'], df['Survived'], margins=True)"
   ]
  },
  {
   "cell_type": "markdown",
   "metadata": {},
   "source": [
    "### 4. df (DataFrame)의 Age에 대한 결측치를 Sex(male, female), Pclass(1,2,3)로 구분하여 각 평균치로 채우시오."
   ]
  },
  {
   "cell_type": "code",
   "execution_count": null,
   "metadata": {},
   "outputs": [],
   "source": [
    "mean_m_1 = df[(df['Sex']=='male')   & (df['Pclass']==1)]['Age'].mean()\n",
    "mean_m_2 = df[(df['Sex']=='male')   & (df['Pclass']==2)]['Age'].mean()\n",
    "mean_m_3 = df[(df['Sex']=='male')   & (df['Pclass']==3)]['Age'].mean()\n",
    "mean_f_1 = df[(df['Sex']=='female') & (df['Pclass']==1)]['Age'].mean()\n",
    "mean_f_2 = df[(df['Sex']=='female') & (df['Pclass']==2)]['Age'].mean()\n",
    "mean_f_3 = df[(df['Sex']=='female') & (df['Pclass']==3)]['Age'].mean()"
   ]
  },
  {
   "cell_type": "code",
   "execution_count": null,
   "metadata": {},
   "outputs": [],
   "source": [
    "df.loc[(df['Age'].isnull())&(df['Sex']=='male')  &(df['Pclass']==1),'Age'] = mean_m_1\n",
    "df.loc[(df['Age'].isnull())&(df['Sex']=='male')  &(df['Pclass']==2),'Age'] = mean_m_2\n",
    "df.loc[(df['Age'].isnull())&(df['Sex']=='male')  &(df['Pclass']==3),'Age'] = mean_m_3\n",
    "df.loc[(df['Age'].isnull())&(df['Sex']=='female')&(df['Pclass']==1),'Age'] = mean_f_1\n",
    "df.loc[(df['Age'].isnull())&(df['Sex']=='female')&(df['Pclass']==2),'Age'] = mean_f_2\n",
    "df.loc[(df['Age'].isnull())&(df['Sex']=='female')&(df['Pclass']==3),'Age'] = mean_f_3"
   ]
  },
  {
   "cell_type": "markdown",
   "metadata": {},
   "source": [
    "#### Age 합계 확인"
   ]
  },
  {
   "cell_type": "code",
   "execution_count": null,
   "metadata": {},
   "outputs": [],
   "source": [
    "df['Age'].sum()"
   ]
  },
  {
   "cell_type": "markdown",
   "metadata": {},
   "source": [
    "---"
   ]
  },
  {
   "cell_type": "code",
   "execution_count": null,
   "metadata": {},
   "outputs": [],
   "source": [
    "# end of file"
   ]
  },
  {
   "cell_type": "code",
   "execution_count": null,
   "metadata": {},
   "outputs": [],
   "source": []
  }
 ],
 "metadata": {
  "kernelspec": {
   "display_name": "Python 3",
   "language": "python",
   "name": "python3"
  },
  "language_info": {
   "codemirror_mode": {
    "name": "ipython",
    "version": 3
   },
   "file_extension": ".py",
   "mimetype": "text/x-python",
   "name": "python",
   "nbconvert_exporter": "python",
   "pygments_lexer": "ipython3",
   "version": "3.8.5"
  },
  "vip": {
   "base_numbering": 1,
   "nav_menu": {},
   "number_sections": true,
   "sideBar": true,
   "title_cell": "Visual Python",
   "title_sidebar": "Visual Python",
   "vip_cell": false,
   "vip_position": {},
   "vip_section_display": true,
   "vip_window_display": false
  },
  "vp": {
   "base_numbering": 1,
   "nav_menu": {},
   "number_sections": true,
   "sideBar": true,
   "title_cell": "VisualPython",
   "title_sidebar": "VisualPython",
   "vpPosition": {
    "height": "calc(100% - 180px)",
    "right": "10px",
    "top": "110px",
    "width": "50%"
   },
   "vp_cell": false,
   "vp_section_display": true,
   "vp_window_display": false
  }
 },
 "nbformat": 4,
 "nbformat_minor": 2
}
